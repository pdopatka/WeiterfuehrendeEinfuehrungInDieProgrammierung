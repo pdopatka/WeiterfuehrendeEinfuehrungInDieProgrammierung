{
 "cells": [
  {
   "cell_type": "markdown",
   "id": "39699d34-6d90-4408-be51-f105c028c506",
   "metadata": {},
   "source": [
    "\n",
    "  ## Hello World"
   ]
  },
  {
   "cell_type": "code",
   "execution_count": null,
   "id": "3a8e5557-df4b-471f-98e0-cb69e4a5df4e",
   "metadata": {},
   "outputs": [
    {
     "name": "stdout",
     "output_type": "stream",
     "text": [
      "Hello World\n"
     ]
    }
   ],
   "source": [
    "# %%\n",
    "\n",
    "class HelloWorld:\n",
    "    print(\"Hello World\")"
   ]
  },
  {
   "cell_type": "markdown",
   "id": "96930b41-6992-4335-9a57-937143c1b0bc",
   "metadata": {},
   "source": [
    "\n",
    "\n",
    "  ## Student"
   ]
  },
  {
   "cell_type": "code",
   "execution_count": null,
   "id": "16df09b3-4ec8-4aee-88c4-b1203cb314a1",
   "metadata": {},
   "outputs": [
    {
     "name": "stdout",
     "output_type": "stream",
     "text": [
      "Name: Alice, Age: 20\n"
     ]
    }
   ],
   "source": [
    "# %%\n",
    "\n",
    "class Student:\n",
    "    def __init__(self, name, age):\n",
    "        self.name = name\n",
    "        self.age = age\n",
    "\n",
    "Student1 = Student(\"Alice\", 20)\n",
    "print (f\"Name: {Student1.name}, Age: {Student1.age}\")"
   ]
  },
  {
   "cell_type": "markdown",
   "id": "18fa6efd-10ed-46c2-a391-a708d8eb9bc6",
   "metadata": {},
   "source": [
    "\n",
    "\n",
    "  ## Loop\n"
   ]
  },
  {
   "cell_type": "code",
   "execution_count": null,
   "id": "08e7e76b-d4f3-49eb-8ec8-2f12b1c3a587",
   "metadata": {},
   "outputs": [
    {
     "name": "stdout",
     "output_type": "stream",
     "text": [
      "0\n",
      "1\n",
      "2\n",
      "3\n",
      "4\n",
      "5\n",
      "6\n",
      "7\n",
      "8\n",
      "9\n"
     ]
    }
   ],
   "source": [
    "# %%\n",
    "\n",
    "for i in range(10):\n",
    "    print(i)"
   ]
  },
  {
   "cell_type": "markdown",
   "id": "c38f9ca1-9b4e-4157-8ce2-dacaf67f1f29",
   "metadata": {},
   "source": [
    "\n",
    "\n",
    "  ## Inheritance"
   ]
  },
  {
   "cell_type": "code",
   "execution_count": null,
   "id": "844726ff-23de-4693-953f-694fd952ffda",
   "metadata": {},
   "outputs": [
    {
     "name": "stdout",
     "output_type": "stream",
     "text": [
      "78.53981633974483\n"
     ]
    }
   ],
   "source": [
    "# %%\n",
    "\n",
    "from abc import ABC, abstractmethod\n",
    "import math\n",
    "class Shape(ABC):\n",
    "    @abstractmethod\n",
    "    def getArea(self):\n",
    "        pass\n",
    "\n",
    "class Circle(Shape):\n",
    "    def __init__(self, radius):\n",
    "        self.radius = radius\n",
    "\n",
    "    def getArea(self):\n",
    "        return math.pi * self.radius * self.radius\n",
    "    \n",
    "\n",
    "Circle1 = Circle(5)\n",
    "print(Circle1.getArea())"
   ]
  },
  {
   "cell_type": "markdown",
   "id": "b348188d-2b7c-437a-b3b7-0e6399709f06",
   "metadata": {},
   "source": [
    "\n",
    "  Better Implementation"
   ]
  },
  {
   "cell_type": "code",
   "execution_count": null,
   "id": "5c86c258-2613-4ad0-9a05-a448d3c50c5c",
   "metadata": {},
   "outputs": [],
   "source": [
    "# %%\n",
    "\n",
    "class Circle2():\n",
    "    def __init__(self, radius):\n",
    "        self.radius = radius\n",
    "\n",
    "    def getArea(self):\n",
    "        return self.radius * self.radius * math.pi"
   ]
  },
  {
   "cell_type": "markdown",
   "id": "d5a4c0e2-a29d-4c07-ac92-9ae399b8a961",
   "metadata": {},
   "source": [
    "\n",
    "\n",
    "  ## HashMap"
   ]
  },
  {
   "cell_type": "code",
   "execution_count": null,
   "id": "161f7872-98d9-4bf0-9f33-31a53f9f9531",
   "metadata": {},
   "outputs": [
    {
     "name": "stdout",
     "output_type": "stream",
     "text": [
      "Average Grade: 0\n"
     ]
    }
   ],
   "source": [
    "# %%\n",
    "\n",
    "class Student: \n",
    "    def __init__(self, name):\n",
    "        self.name = name\n",
    "    \n",
    "    setGrade = lambda self, grade: setattr(self, 'grade', grade)\n",
    "    getAverage = lambda self: sum(self.grade) / len(self.grade) if hasattr(self, 'grade') else 0\n",
    "\n",
    "Student1 = Student(\"Bob\")\n",
    "print(f\"Average Grade: {Student1.getAverage()}\")"
   ]
  }
 ],
 "metadata": {
  "language_info": {
   "codemirror_mode": {
    "name": "ipython",
    "version": 3
   },
   "file_extension": ".py",
   "mimetype": "text/x-python",
   "name": "python",
   "nbconvert_exporter": "python",
   "pygments_lexer": "ipython3",
   "version": 3
  }
 },
 "nbformat": 4,
 "nbformat_minor": 2
}
